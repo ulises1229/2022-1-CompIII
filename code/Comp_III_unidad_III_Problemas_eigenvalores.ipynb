{
  "nbformat": 4,
  "nbformat_minor": 0,
  "metadata": {
    "colab": {
      "name": "Comp III - unidad III - Problemas eigenvalores.ipynb",
      "private_outputs": true,
      "provenance": [],
      "collapsed_sections": [],
      "authorship_tag": "ABX9TyNRk4cumHYEV/SmsMXz/Lp3",
      "include_colab_link": true
    },
    "kernelspec": {
      "name": "python3",
      "display_name": "Python 3"
    },
    "language_info": {
      "name": "python"
    }
  },
  "cells": [
    {
      "cell_type": "markdown",
      "metadata": {
        "id": "view-in-github",
        "colab_type": "text"
      },
      "source": [
        "<a href=\"https://colab.research.google.com/github/ulises1229/2022-1-CompIII/blob/main/code/Comp_III_unidad_III_Problemas_eigenvalores.ipynb\" target=\"_parent\"><img src=\"https://colab.research.google.com/assets/colab-badge.svg\" alt=\"Open In Colab\"/></a>"
      ]
    },
    {
      "cell_type": "markdown",
      "metadata": {
        "id": "RMzp4MgVuTQi"
      },
      "source": [
        "# Computación III\n",
        "## Unidad III - Problemas con Eigen Values\n",
        "+ Autor: Ulises Olivares\n",
        "+ uolivares@unam.mx\n",
        "+ Oct 11, 2021\n",
        "\n",
        "<table align=\"center\">\n",
        "\n",
        "<td align=\"center\"><a target=\"_blank\" href=\"https://colab.research.google.com/drive/1dGaiZDAE5jXeyZKzVcD5NaKhc_59507K?usp=sharing\">\n",
        "        <img src=\"https://i.ibb.co/2P3SLwK/colab.png\"  style=\"padding-bottom:5px;\" />Ejecutar en Google Colab</a></td>\n",
        "  <td align=\"center\"><a target=\"_blank\" href=\"https://github.com/ulises1229/ComputacionII-2021-2/blob/main/code/Comp_II_Unidad_IV_Sistemas_de_ecuaciones_NL.ipynb\">\n",
        "        <img src=\"https://i.ibb.co/xfJbPmL/github.png\"  height=\"70px\" style=\"padding-bottom:5px;\"  />Ver código fuente en GitHub</a></td>\n",
        "</table>"
      ]
    },
    {
      "cell_type": "markdown",
      "metadata": {
        "id": "ZQokT2ORA76y"
      },
      "source": [
        "# 1. Método de las potencias"
      ]
    },
    {
      "cell_type": "code",
      "metadata": {
        "id": "zQQoq0DKA7iT"
      },
      "source": [
        "import numpy as np\n",
        "import random\n",
        "\n",
        "\n",
        "class PowerMethod():\n",
        "\n",
        "    def maxEigenValue(self, tol, M, x0):\n",
        "        \n",
        "        error = np.inf          # Inicializar error en infinito\n",
        "        xk = M @ x0             # calcular vector inicial\n",
        "        lamda0 = np.amax(xk)    # Elemento máximo eigenvalor\n",
        "        xk = lamda0 / xk        # Normalizando los elementos eigenvector\n",
        "\n",
        "        while error > tol:\n",
        "            xk = M @ xk\n",
        "            lamdak = np.amax(xk)\n",
        "            xk = lamdak / xk\n",
        "            error = lamdak -lamda0\n",
        "\n",
        "            lamdak = lamda0\n",
        "        return lamdak, xk\n",
        "\n",
        "    def minEigenValue(self, tol, M, x0):\n",
        "        error = np.inf          # Inicializar error en infinito\n",
        "        Minv = np.linal.inv(M)  # inversa de matriz M\n",
        "\n",
        "        xk = Minv @ x0\n",
        "        lamda0 = 1 / np.amax(xk)    # Primer aproximación\n",
        "        xk = lamda0 / xk            # Vector normalizado\n",
        "        lamda = 0  \n",
        "\n",
        "        while error > tol:\n",
        "            xk = Minv @ xk\n",
        "            lamdak = 1/ np.amax(xk)\n",
        "            xk = lamdak / xk\n",
        "            error = lamdak -lamda0\n",
        "\n",
        "            lamdak = lamda0\n",
        "        return lamdak, xk\n",
        "\n",
        "def main():\n",
        "    n = 4\n",
        "    M = np.random.randint(1, 10, size = (n, n))\n",
        "    x0 = np.zeros(n)\n",
        "    x0[0] = 1\n",
        "    tol = 0.0001\n",
        "\n",
        "    print(\"Matriz inicial \\n\",M)\n",
        "\n",
        "\n",
        "\n",
        "\n",
        "\n",
        "if __name__ == \"__main__\":\n",
        "\n",
        "    main() "
      ],
      "execution_count": null,
      "outputs": []
    },
    {
      "cell_type": "markdown",
      "metadata": {
        "id": "5qGPI7HjusFp"
      },
      "source": [
        ""
      ]
    }
  ]
}