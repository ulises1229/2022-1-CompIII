{
  "nbformat": 4,
  "nbformat_minor": 0,
  "metadata": {
    "colab": {
      "name": "Comp III (2022-1) - UNIDAD II  Análisis Matricial",
      "private_outputs": true,
      "provenance": [],
      "collapsed_sections": [],
      "authorship_tag": "ABX9TyOhOfXkhSSoB3ELzYR+DaqE",
      "include_colab_link": true
    },
    "kernelspec": {
      "name": "python3",
      "display_name": "Python 3"
    },
    "language_info": {
      "name": "python"
    }
  },
  "cells": [
    {
      "cell_type": "markdown",
      "metadata": {
        "id": "view-in-github",
        "colab_type": "text"
      },
      "source": [
        "<a href=\"https://colab.research.google.com/github/ulises1229/2022-1-CompIII/blob/main/code/Comp_III_(2022_1)_UNIDAD_II_An%C3%A1lisis_Matricial.ipynb\" target=\"_parent\"><img src=\"https://colab.research.google.com/assets/colab-badge.svg\" alt=\"Open In Colab\"/></a>"
      ]
    },
    {
      "cell_type": "markdown",
      "metadata": {
        "id": "meSxvRX5JPKu"
      },
      "source": [
        "# Computación III\n",
        "## Unidad II - Análisis Matricial \n",
        "+ Autor: Ulises Olivares\n",
        "+ uolivares@unam.mx\n",
        "+ Sept 20, 2021\n",
        "\n",
        "<table align=\"center\">\n",
        "\n",
        "<td align=\"center\"><a target=\"_blank\" href=\"https://colab.research.google.com/drive/1dGaiZDAE5jXeyZKzVcD5NaKhc_59507K?usp=sharing\">\n",
        "        <img src=\"https://i.ibb.co/2P3SLwK/colab.png\"  style=\"padding-bottom:5px;\" />Ejecutar en Google Colab</a></td>\n",
        "  <td align=\"center\"><a target=\"_blank\" href=\"https://github.com/ulises1229/ComputacionII-2021-2/blob/main/code/Comp_II_Unidad_IV_Sistemas_de_ecuaciones_NL.ipynb\">\n",
        "        <img src=\"https://i.ibb.co/xfJbPmL/github.png\"  height=\"70px\" style=\"padding-bottom:5px;\"  />Ver código fuente en GitHub</a></td>\n",
        "</table>"
      ]
    },
    {
      "cell_type": "markdown",
      "metadata": {
        "id": "TEmXdjt1Jlkq"
      },
      "source": [
        "# 0. *Numpy - Repaso*\n",
        "\n",
        "Demostrar el uso de arreglos unidimensionales y bi-dimensionales utilizando numpy.\n"
      ]
    },
    {
      "cell_type": "code",
      "metadata": {
        "id": "iV2tLujWH1N1"
      },
      "source": [
        "# importar librería de numpy \n",
        "import numpy as np\n",
        "\n",
        "# Creara un arreglo bi-dimensional\n",
        "a = np.array([[1.0,2,3], \n",
        "              [4,5,6]], \n",
        "             dtype = np.float16)\n",
        "# Imprimir matriz\n",
        "print(a)\n",
        "\n",
        "# IMPRIMIR ELEMENTOS\n",
        "print(\"Dimensiones: \" + str(a.ndim))\n",
        "print(\"Forma: \" + str(a.shape))\n",
        "print(\"Tipo de datos: \" + str(a.dtype))"
      ],
      "execution_count": null,
      "outputs": []
    },
    {
      "cell_type": "code",
      "metadata": {
        "id": "kq_pDjfjJWjF"
      },
      "source": [
        "# Creación de arreglos\n",
        "# Arreglo de 1s\n",
        "ones = np.ones((3,5), dtype=np.float32)\n",
        "# Arreglo de 0s\n",
        "zeros = np.zeros((5,5), dtype=np.float32)\n",
        "\n",
        "#Impresión de matrices\n",
        "print(ones)\n",
        "print(zeros)\n",
        "\n",
        "print(\"Matriz 1s tiene: \" + str(len(ones)) + \" filas y \" + str(len(ones[0])) + \" columnas\")\n",
        "\n",
        "# Acceso a la matriz usando índices\n",
        "filas = len(ones)\n",
        "columnas = len(ones[0])\n",
        "\n",
        "print(\"Impresión utilizando índices\")\n",
        "for i in range(filas):\n",
        "  for j in range(columnas):\n",
        "    print(ones[i][j], end= \" \")\n",
        "  print(\" \")\n",
        "\n",
        "print(\"Impresión utilizando elementos\")\n",
        "# Acceso usando elementos\n",
        "for i in ones:\n",
        "  for j in i:\n",
        "    print(j , end =\" \")\n",
        "  print(\" \")"
      ],
      "execution_count": null,
      "outputs": []
    },
    {
      "cell_type": "code",
      "metadata": {
        "id": "Lhd4g_CDLatT"
      },
      "source": [
        "# Generación de un vector a través del uso de rangos\n",
        "np.arange(1, 100)"
      ],
      "execution_count": null,
      "outputs": []
    },
    {
      "cell_type": "code",
      "metadata": {
        "id": "SM-DLDRBPgho"
      },
      "source": [
        "# Concatenando arreglos o matrices\n",
        "A = np.ones((3,3), dtype = np.float32)\n",
        "B = np.zeros((3,3), dtype = np.float32)\n",
        "\n",
        "# concatenar matrices\n",
        "np.concatenate([A,B], axis = 1)"
      ],
      "execution_count": null,
      "outputs": []
    },
    {
      "cell_type": "code",
      "metadata": {
        "id": "S9bqh64vQD5a"
      },
      "source": [
        "# Uso de astype para hacer un cast de tipos de datos\n",
        "A = np.zeros((5,4), dtype = np.float32)\n",
        "print(len(A[0]))\n",
        "\n",
        "for i in range(len(A)):\n",
        "  for j in range(len(A[0])):\n",
        "    A[i][j] = np.pi\n",
        "print(A)\n",
        "\n",
        "print(A.astype(np.int16))"
      ],
      "execution_count": null,
      "outputs": []
    },
    {
      "cell_type": "code",
      "metadata": {
        "id": "-YYZOHcCRkjk"
      },
      "source": [
        "# Uso de np.zeros_like y np.ones_like\n",
        "A = np.ones((4,4))\n",
        "print(A)\n",
        "# zeros_like genera un arreglo de las \n",
        "# mismas dimensiones que el original \n",
        "B = np.zeros_like(A)\n",
        "print(B)"
      ],
      "execution_count": null,
      "outputs": []
    },
    {
      "cell_type": "code",
      "metadata": {
        "id": "wGKMiDBIRfjT"
      },
      "source": [
        "# Generación de arreglos aleatorios\n",
        "A = np.random.random((5, 5))\n",
        "print(A)\n",
        "# Generación de números enteros del 0 al n-1 \n",
        "n = 10\n",
        "B= np.random.randint(10, size = (7,7))\n",
        "print(B)"
      ],
      "execution_count": null,
      "outputs": []
    },
    {
      "cell_type": "code",
      "metadata": {
        "id": "TEbefbC4Q-ER"
      },
      "source": [
        "# Transformaciones de arreglos\n",
        "A = np.array([1,2,3,4,5,6])\n",
        "print(A)\n",
        "\n",
        "# Transformar a 3 filas, 2 columnas\n",
        "A = A.reshape(3, 2)\n",
        "print(A)\n",
        "\n",
        "# Se utiliza -1 para determinar cols\n",
        "A = A.reshape(2, -1)\n",
        "print(A)\n",
        "\n",
        "# Transormar a un arreglo lineal\n",
        "A = A.ravel()\n",
        "print(A)"
      ],
      "execution_count": null,
      "outputs": []
    },
    {
      "cell_type": "code",
      "metadata": {
        "id": "kdP0tMurZrka"
      },
      "source": [
        "# Transpuesta de una matriz\n",
        "A = np.arange(25).reshape(5,5)\n",
        "print(\"Matriz Original: \\n\" + str(A))\n",
        "# Imprimir matriz transpuesta\n",
        "print(\"Matriz Transpuesta: \\n\" + str(A.T))\n",
        "# Imprimir matriz \n",
        "print(\"Matriz Transpuesta: \\n\" + str(A.transpose((1,0))))\n",
        "\n"
      ],
      "execution_count": null,
      "outputs": []
    },
    {
      "cell_type": "code",
      "metadata": {
        "id": "u44c41iHY8qZ"
      },
      "source": [
        "# Operadores Matemáticos\n",
        "A = np.arange(100).reshape(10,10)\n",
        "print(\"Primer Matriz: \\n\" + str(A))\n",
        "\n",
        "B = np.arange(100, 200).reshape(10, 10)\n",
        "print(\"Segunda Matriz: \\n\" + str(B))\n",
        "\n",
        "# Calcular la suma de ambas matrices\n",
        "print(\"Suma: \"  + str(A + B))\n",
        "\n",
        "# Calcular la resta de ambas matrices\n",
        "print(\"resta: \"  + str(B - A))\n",
        "\n",
        "# Calcular la multiplicación de ambas matrices\n",
        "print(\"multiplicación: \"  + str(A * B))"
      ],
      "execution_count": null,
      "outputs": []
    },
    {
      "cell_type": "code",
      "metadata": {
        "id": "6ypxSJKoY3p9"
      },
      "source": [
        "# Operadores lógicos\n",
        "A = np.random.random((5,5))\n",
        "print(\"Matriz Original: \\n\" + str(A))\n",
        "\n",
        "# Operador lógico\n",
        "print(\"Operador lógico a >5 \\n\" + str(A > 0.5))"
      ],
      "execution_count": null,
      "outputs": []
    },
    {
      "cell_type": "code",
      "metadata": {
        "id": "_jgah2aMe1A1"
      },
      "source": [
        "# Operaciones in-situ \n",
        "A = np.random.randint(10, size= (5,5))\n",
        "print(\"Matriz A Original: \\n\" + str(A))\n",
        "\n",
        "B = A = np.random.randint(10, size= (5,5))\n",
        "print(\"Matriz B Original: \\n\" + str(B))\n",
        "\n",
        "# Operación in-situ\n",
        "A += B\n",
        "print(\"Matriz A Modificada: \\n\" + str(A))"
      ],
      "execution_count": null,
      "outputs": []
    },
    {
      "cell_type": "code",
      "metadata": {
        "id": "qnL5B5LMfzz9"
      },
      "source": [
        "# Funciones universales\n",
        "A = np.random.randint(10, 100, size= (5,5))\n",
        "print(\"Matriz A Original: \\n\" + str(A))\n",
        "\n",
        "# Calcular Raiz cuadrada\n",
        "print(\"Raiz Cuadrada: \\n\" + str(np.sqrt(A)))\n",
        "\n",
        "# Calcular raiz a elemento de la matriz\n",
        "print(np.sqrt(A[0][0]))\n"
      ],
      "execution_count": null,
      "outputs": []
    },
    {
      "cell_type": "markdown",
      "metadata": {
        "id": "0qFDMEpz4oKY"
      },
      "source": [
        "#### Inversa de una matriz\n"
      ]
    },
    {
      "cell_type": "code",
      "metadata": {
        "id": "gGbw1o3x4ruc"
      },
      "source": [
        "# Inversa de una matriz\n",
        "import numpy as np\n",
        "\n",
        "# Inicializar una matriz \n",
        "A = np.random.randint(10, size= (5,5))\n",
        "print(\"Matriz A Original: \\n\" + str(A))\n",
        "\n",
        "# Calcular matriz inversa\n",
        "B = np.linalg.inv(A)\n",
        "print(\"Matriz Inversa A^-1: \\n\" + str(B))"
      ],
      "execution_count": null,
      "outputs": []
    },
    {
      "cell_type": "markdown",
      "metadata": {
        "id": "5JO3NyGytIri"
      },
      "source": [
        "***\n",
        "Termina repaso de Numpy \n",
        "***"
      ]
    },
    {
      "cell_type": "markdown",
      "metadata": {
        "id": "fdLHdbGqKcEF"
      },
      "source": [
        "# 1. Determinante de una matriz"
      ]
    },
    {
      "cell_type": "markdown",
      "metadata": {
        "id": "cg1fo3hLKtTc"
      },
      "source": [
        "### 1.1 Aplicación de determinantes"
      ]
    },
    {
      "cell_type": "markdown",
      "metadata": {
        "id": "TSltUl2VKiRA"
      },
      "source": [
        "# 2. Traza de una matriz\n"
      ]
    },
    {
      "cell_type": "markdown",
      "metadata": {
        "id": "nz_wo2GAKm6k"
      },
      "source": [
        ""
      ]
    },
    {
      "cell_type": "markdown",
      "metadata": {
        "id": "De2HzNzcJEhA"
      },
      "source": [
        "#3.  Bloques de matrices y Pytorch"
      ]
    },
    {
      "cell_type": "markdown",
      "metadata": {
        "id": "-S9YjS_WGq2K"
      },
      "source": [
        "---\n",
        "Contenido basado en la documentación oficial de Pythorch: \n",
        "- https://pytorch.org/tutorials/\n",
        "\n",
        "---\n",
        "\n"
      ]
    },
    {
      "cell_type": "markdown",
      "metadata": {
        "id": "Oqf3a8mWCxDS"
      },
      "source": [
        "---\n",
        "# Parte I - ¿Qué es Pythorch?\n",
        "---\n",
        "Es un paquete informático científico basado en Python dirigido a dos conjuntos de\n",
        "audiencias:\n",
        "\n",
        "- Un reemplazo de NumPy para usar el poder de cómputo de los GPU.\n",
        "\n",
        "- Una plataforma de investigación de (deep learning) que proporciona máxima flexibilidad y velocidad\n",
        "\n",
        "**Tensores**\n",
        "---------------\n",
        "\n",
        "+ Los tensores son similares a los ndarrays de NumPy, con la adición de que también se pueden usar en un GPU para acelerar los cálculos.\n",
        "\n"
      ]
    },
    {
      "cell_type": "code",
      "metadata": {
        "id": "mhPknTl4_hdA"
      },
      "source": [
        "# Google Colab soporta Pythorch por default\n",
        "import torch"
      ],
      "execution_count": null,
      "outputs": []
    },
    {
      "cell_type": "markdown",
      "metadata": {
        "id": "iRt7njBVL9Qy"
      },
      "source": [
        "\n",
        "**Nota**\n",
        "\n",
        "\n",
        "Se declara una matriz no inicializada, esta matriz no contiene valores definidos antes de su uso. Cuando se crea una matriz no inicializada, los valores que estaban en la memoria asignada en ese momento aparecerán como valores iniciales.\n",
        "\n"
      ]
    },
    {
      "cell_type": "code",
      "metadata": {
        "id": "2AeDK5h6M7Dr"
      },
      "source": [
        "# Matriz no inicializada de 5 filas y 3 columnas\n",
        "x = torch.empty(5, 3)\n",
        "print(x)"
      ],
      "execution_count": null,
      "outputs": []
    },
    {
      "cell_type": "markdown",
      "metadata": {
        "id": "2tEKDGjlCxDW"
      },
      "source": [
        "*Construir* una matriz no inicializada de 5x3:\n",
        "\n"
      ]
    },
    {
      "cell_type": "code",
      "metadata": {
        "id": "uZ8-tJv8CxDW"
      },
      "source": [
        "x = torch.empty(5, 3)\n",
        "print(x)"
      ],
      "execution_count": null,
      "outputs": []
    },
    {
      "cell_type": "markdown",
      "metadata": {
        "id": "Et_UfwThCxDY"
      },
      "source": [
        "Construir una matriz inicializada de forma aleatoria:\n",
        "\n"
      ]
    },
    {
      "cell_type": "code",
      "metadata": {
        "id": "cVuMjDtICxDZ"
      },
      "source": [
        "x = torch.rand(5, 3)\n",
        "print(x)"
      ],
      "execution_count": null,
      "outputs": []
    },
    {
      "cell_type": "markdown",
      "metadata": {
        "id": "koUSt9msCxDb"
      },
      "source": [
        "Construir una matriz de zeros y de tipo long:\n",
        "\n",
        "- Ver tipos de datos de pythorch en el siguiente [LINK](https://pytorch.org/docs/stable/tensor_attributes.html)\n"
      ]
    },
    {
      "cell_type": "code",
      "metadata": {
        "id": "ZOUjp2oPCxDb"
      },
      "source": [
        "x = torch.zeros(5, 3, dtype=torch.long)\n",
        "print(x)"
      ],
      "execution_count": null,
      "outputs": []
    },
    {
      "cell_type": "markdown",
      "metadata": {
        "id": "hzL3er_kCxDf"
      },
      "source": [
        "**Construir un Tensor a partir de datos:**\n",
        "  + Se especifican los elementos entre corchetes. E.g. [1,2,3,5]\n",
        "\n",
        "\n"
      ]
    },
    {
      "cell_type": "code",
      "metadata": {
        "id": "d1d5_tPBCxDf"
      },
      "source": [
        "x = torch.tensor([5.9, 3])\n",
        "print(x)\n",
        "print(type(x))"
      ],
      "execution_count": null,
      "outputs": []
    },
    {
      "cell_type": "markdown",
      "metadata": {
        "id": "XBkJ4CTNCxDh"
      },
      "source": [
        "**Crear un tensor basado en un tensor existente**\n",
        "\n",
        "Este método reutilizá las propiedades del tensor de entrada. E.g. **dtype**, a menos que los nuevos valores se especifiquen por el usuario."
      ]
    },
    {
      "cell_type": "code",
      "metadata": {
        "id": "Mljr-DrzCxDh"
      },
      "source": [
        "x = x.new_ones(5, 3, dtype=torch.double)      # new_* methods take in sizes\n",
        "print(x)\n",
        "\n",
        "x = torch.randn_like(x, dtype=torch.float)    # sobreescibir dtype!\n",
        "print(x)                                     # el resultado tiene el mismo tamaño."
      ],
      "execution_count": null,
      "outputs": []
    },
    {
      "cell_type": "markdown",
      "metadata": {
        "id": "_petMh4HCxDj"
      },
      "source": [
        "**Obtener el tamaño de un tensor:**\n",
        "\n"
      ]
    },
    {
      "cell_type": "code",
      "metadata": {
        "id": "kquZbcVrCxDk"
      },
      "source": [
        "print(x.size())\n",
        "print(x.size()[0])\n",
        "print(x.size()[1])"
      ],
      "execution_count": null,
      "outputs": []
    },
    {
      "cell_type": "markdown",
      "metadata": {
        "id": "l2HTTTyjCxDl"
      },
      "source": [
        "<h4>Nota</h4><p>\n",
        "\n",
        "`torch.Size`\n",
        "\n",
        "Es de hecho una tupla, entonces soporta las operaciones de tuplas.</p></div>\n",
        "\n",
        "**Operaciones**\n",
        "\n",
        "Existen múltiples formas de especificar (denotar) operaciones en pythorch. En el siguiente ejemplo, se utilizara la operación de adición. \n",
        "\n",
        "**Suma: sintaxis 1**\n",
        "\n"
      ]
    },
    {
      "cell_type": "code",
      "metadata": {
        "id": "aplA0i7XCxDm"
      },
      "source": [
        "y = torch.rand(5, 3)\n",
        "print(y)\n",
        "print(x + y)"
      ],
      "execution_count": null,
      "outputs": []
    },
    {
      "cell_type": "markdown",
      "metadata": {
        "id": "R1ToIO68CxDn"
      },
      "source": [
        "**Suma: sintaxis 2**\n",
        "\n"
      ]
    },
    {
      "cell_type": "code",
      "metadata": {
        "id": "J3tplG9LCxDo"
      },
      "source": [
        "result = torch.empty(5, 3)\n",
        "result = torch.add(x, y)\n",
        "print(result)"
      ],
      "execution_count": null,
      "outputs": []
    },
    {
      "cell_type": "markdown",
      "metadata": {
        "id": "ihXqbCSsCxDq"
      },
      "source": [
        "**Suma: Sintaxis 3** \n",
        "- pasar la variable resultado como un argumento."
      ]
    },
    {
      "cell_type": "code",
      "metadata": {
        "id": "2BQICyCwCxDq"
      },
      "source": [
        "result = torch.zeros(7, 3)\n",
        "torch.add(x, y, out=result)\n",
        "print(result)"
      ],
      "execution_count": null,
      "outputs": []
    },
    {
      "cell_type": "markdown",
      "metadata": {
        "id": "sbAY6KD5CxDs"
      },
      "source": [
        "**Suma: Sintaxis 4**\n",
        "- Operación in-situ \n",
        "> var += array[i]\n"
      ]
    },
    {
      "cell_type": "code",
      "metadata": {
        "id": "vwg7JFfBCxDs"
      },
      "source": [
        "# adds x to y\n",
        "y.add_(x)\n",
        "print(y)"
      ],
      "execution_count": null,
      "outputs": []
    },
    {
      "cell_type": "markdown",
      "metadata": {
        "id": "GBFmhZG4CxDu"
      },
      "source": [
        "**Nota**\n",
        "\n",
        "Cualquier operación que modifique un tensor in-situ lleva el sufijo `_` \n",
        "\n",
        "Por ejemplo: \n",
        "\n",
        "``x.copy_(y)``, ``x.t_()``, modificarán al tensor ``x``\n",
        "\n",
        "- **¡Es posible utilizar la notación de indexación similar a Numpy!**"
      ]
    },
    {
      "cell_type": "code",
      "metadata": {
        "id": "ZtzvH-KJCxDu"
      },
      "source": [
        "x = torch.rand(4, 4)\n",
        "print(x)\n",
        "\n",
        "A = x[0:2, 0:2]\n",
        "B = x[0:2, 2:4]\n",
        "\n",
        "print(A)\n",
        "print(B)\n"
      ],
      "execution_count": null,
      "outputs": []
    },
    {
      "cell_type": "markdown",
      "metadata": {
        "id": "kq_HI5WVCxDw"
      },
      "source": [
        "**Modificar el tamaño:** Si es necesario modificar el tamaño o la forma de un tensor, se puede utilizar:\n",
        "\n",
        "``torch.view``:\n",
        "\n"
      ]
    },
    {
      "cell_type": "code",
      "metadata": {
        "id": "BuUGPsY0CxDx"
      },
      "source": [
        "x = torch.randn(4, 4)\n",
        "y = x.view(16)\n",
        "z = x.view(8, -1)  # el tamaño -1 se asigna automáticamente (infiere) de la otra dimensión.\n",
        "\n",
        "print(x.size(), y.size(), z.size())"
      ],
      "execution_count": null,
      "outputs": []
    },
    {
      "cell_type": "markdown",
      "metadata": {
        "id": "NOzcaxQqCxDz"
      },
      "source": [
        "Si se tiene un único elemento en el tensor, se puede emplear ``.item()`` para obtener el valor como un número de Python."
      ]
    },
    {
      "cell_type": "code",
      "metadata": {
        "id": "McbKRjkKCxD0"
      },
      "source": [
        "x = torch.randn(1)\n",
        "print(x)\n",
        "print(x.item())"
      ],
      "execution_count": null,
      "outputs": []
    },
    {
      "cell_type": "markdown",
      "metadata": {
        "id": "h-4nCDUbCxD2"
      },
      "source": [
        "**Revisar más tarde:**\n",
        "\n",
        "  - Más de 100 operaciones con tensores incluidos:\n",
        "    + Transposiciones\n",
        "    + Indexación\n",
        "    + Subconjuntos\n",
        "    + Operaciones matemáticas\n",
        "    + Operaciones de álgebra lineal\n",
        "    + Números aleatorios, etc\n",
        "\n",
        "Todas estas operaciones están descritas\n",
        "  [aquí](https://pytorch.org/docs/torch).\n",
        "\n",
        "Conversión de Torch Tensor a Numpy Array y viceversa\n",
        "---\n",
        "\n",
        "La conversión es muy sencilla\n",
        "\n",
        "El arraglo de Numpy y el Tensor compartirán la ubicación de memoria subyacente\n",
        "(si el tensor de Torch está en el CPU), cambiar un elemento modificará atomáticamente el otro.\n",
        "\n",
        "**Convirtiendo un Tensor Torch a un Numpy Array**"
      ]
    },
    {
      "cell_type": "code",
      "metadata": {
        "id": "EboMC3uuCxD2"
      },
      "source": [
        "# Torch tensor\n",
        "a = torch.ones(5)\n",
        "print(a)"
      ],
      "execution_count": null,
      "outputs": []
    },
    {
      "cell_type": "code",
      "metadata": {
        "id": "Tml5PfSoCxD4"
      },
      "source": [
        "# Arreglo de numpy\n",
        "b = a.numpy()\n",
        "print(b)"
      ],
      "execution_count": null,
      "outputs": []
    },
    {
      "cell_type": "markdown",
      "metadata": {
        "id": "kgMEmrcdCxD5"
      },
      "source": [
        "\n",
        "Verificar el arraglo de numpy.\n"
      ]
    },
    {
      "cell_type": "code",
      "metadata": {
        "id": "CAbpn-nACxD6"
      },
      "source": [
        "a.add_(1)\n",
        "print(a)\n",
        "print(b)"
      ],
      "execution_count": null,
      "outputs": []
    },
    {
      "cell_type": "markdown",
      "metadata": {
        "id": "gw8-nAarCxD7"
      },
      "source": [
        "Convirtiendo el arreglo de Numpy a un Tensor Torch\n",
        "---\n",
        "Verificar como el arraglod e Numpy modifica automáticamente al tensor Torch."
      ]
    },
    {
      "cell_type": "code",
      "metadata": {
        "id": "ZZmVxEz1CxD7"
      },
      "source": [
        "import numpy as np\n",
        "a = np.ones(5)\n",
        "b = torch.from_numpy(a)\n",
        "np.add(a, 1, out=a)\n",
        "print(a)\n",
        "print(b)"
      ],
      "execution_count": null,
      "outputs": []
    },
    {
      "cell_type": "markdown",
      "metadata": {
        "id": "P3uAibk_CxEL"
      },
      "source": [
        "Todos ls tensores que se definen en CPU (con excepción de CharTensor) pueden convertirse a un arreglo de Numpy y viceversa.\n",
        "\n",
        "Tensores de CUDA -> (GPU)\n",
        "------------\n",
        "Los tensores pueden ser movidos a un GPU (device) utilizando el método ``.to``.\n",
        "\n",
        "Sólo podrán ejecutar este código si cuentan con un GPU de NVIDIA y el framework  de CUDA instalado. De lo contrario pueden utilizar Google Colab ``<https://colab.research.google.com/>`` o  Kaggle `<https://www.kaggle.com/>``\n",
        "\n"
      ]
    },
    {
      "cell_type": "code",
      "metadata": {
        "id": "U-NIB8ojCxEN"
      },
      "source": [
        "# se verificará si CUDA está disponible\n",
        "# Se usarán objetos ``torch.device`` para mover objetos al device y viceversa\n",
        "import torch\n",
        "import time\n",
        "\n",
        "f = 25000\n",
        "c = 25000\n",
        "\n",
        "# Operación sobre CPU\n",
        "startS = time.time()\n",
        "x = torch.ones(f,c)  \n",
        "y = torch.ones_like(x)\n",
        "z = x * y    # operación sobre CPU \n",
        "endS = time.time()\n",
        "elapsedS = (endS - startS) * 1000\n",
        "print(\"Tiempo serial:\", elapsedS , \"ms\")\n",
        "\n",
        "\n",
        "if torch.cuda.is_available():\n",
        "    startP = time.time();\n",
        "    device = torch.device(\"cuda\")           # Objeto de CUDA device\n",
        "    x = torch.ones(f,c)                     # Definición de una matriz de 2x3 de 1s\n",
        "    y = torch.ones_like(x, device=device)   # Crear un tensor directamente en GPU(device)\n",
        "    x = x.to(device)                        # or just use strings ``.to(\"cuda\")``\n",
        "\n",
        "    startP = time.time();\n",
        "    z = x * y\n",
        "    endP = time.time();\n",
        "    elapsedP = (endP - startP)*1000 \n",
        "    print(\"Tiempo paralelo:\", elapsedP , \"ms\")\n",
        "    print(\"SpeedUp: \", elapsedS / elapsedP)\n",
        "    #print(z)\n",
        "    print(z.to(\"cpu\", torch.double))        # ``.to`` permite modificar el tipo de datos!\n",
        "    #print(elapsedP.to(\"cpu\", torch.float))\n",
        "else:\n",
        "    print(\"CUDA no esta disponible :'(\")"
      ],
      "execution_count": null,
      "outputs": []
    },
    {
      "cell_type": "markdown",
      "metadata": {
        "id": "2Vg2-d1BIAQm"
      },
      "source": [
        "## 4. Vectorización de matrices"
      ]
    },
    {
      "cell_type": "code",
      "metadata": {
        "id": "MLp09f12_zp5"
      },
      "source": [
        "import numpy as np\n",
        "import time\n",
        "\n",
        "\n",
        "class Matrix:\n",
        "    \"\"\"def __init__(self, f, c):\n",
        "        self.f = f\n",
        "        self.c = c\"\"\"\n",
        "\n",
        "\n",
        "    # SUMA matrices convencional\n",
        "    def sumaMatrix(self, A, B):\n",
        "        start = time.time()\n",
        "        z = np.zeros_like(A)\n",
        "        for i in range(len(A)):\n",
        "            for j in range(len(A[0])):\n",
        "                z[i][j] = A[i][j] + B[i][j]\n",
        "        end = time.time()\n",
        "        t = end-start\n",
        "        print(\"Total matrix sum time: \", (t)*1000, \"ms\")\n",
        "        return t\n",
        "    # Suma de matrices vetorizadas utilizando numpy\n",
        "    def sumVectorizedMatNumpy(self, V1, V2):\n",
        "        start = time.time()\n",
        "        z = np.zeros_like(V1)\n",
        "\n",
        "        z = V1 + V2\n",
        "\n",
        "        end = time.time()\n",
        "        t = end-start\n",
        "\n",
        "        print(\"Total matrix vectorized sum time with numpy: \", (t)*1000, \"ms\")\n",
        "        return t\n",
        "\n",
        "    # Suma de matrices convencional \n",
        "    def sumVectorizedMat(self, V1, V2):\n",
        "        start = time.time()\n",
        "        z = np.zeros_like(V1)\n",
        "        \n",
        "        for i in range(len(V1)):\n",
        "            z = V1[i] + V2[i]\n",
        "        \n",
        "        end = time.time()\n",
        "        t = end - start\n",
        "\n",
        "        print(\"Total matrix vectorized sum time: \", (t)*1000, \"ms\")\n",
        "        return t\n",
        "\n",
        "    # TODO: Multiplicación,resta, división.\n",
        "    \n",
        "    \n",
        "def main():\n",
        "\n",
        "    n = 10\n",
        "    f = n #filas\n",
        "    c = n #columnas\n",
        "\n",
        "    M1 = np.random.randint(10, size= (f,c))\n",
        "    \n",
        "    M2 = np.random.randint(10, size= (f,c))\n",
        "\n",
        "    objMat = Matrix()\n",
        "\n",
        "    t1 = objMat.sumaMatrix(M1, M2)\n",
        "\n",
        "    # Vectorización automática\n",
        "    V1 = M1.ravel()\n",
        "    V2 = M2.ravel()\n",
        "\n",
        "\n",
        "    # Mutiplicación: calcular transpuesta de segunda matriz\n",
        "    # TODO: \n",
        "    # 0) Calcular la multiplicación de matrices sin vectorizar\n",
        "    # 1) Calcular la multiplicación sin obtener la transpuesta (vectorizadas)\n",
        "    # 2) Calcular la multiplicación utilizando M2.T (vectorizadas)\n",
        "    # 3) Calcular acceleración \n",
        "\n",
        "    \n",
        "    V2Trans = M2.T.ravel()\n",
        "\n",
        "\n",
        "\n",
        "\n",
        "    t2 = objMat.sumVectorizedMatNumpy(V1, V2)\n",
        "\n",
        "    t3 = objMat.sumVectorizedMat(V1, V2)\n",
        "\n",
        "    acc1 = t1 /t2\n",
        "\n",
        "    acc2 = t1 / t3 \n",
        "\n",
        "    print(\"Acceleration with numpy: \", acc1)\n",
        "    print(\"Acceleration with conventional vectorized sum: \", acc2)\n",
        "\n",
        "    #print(V1)\n",
        "\n",
        "    #print(V)\n",
        "\n",
        "\n",
        "\n",
        "if __name__ == \"__main__\":\n",
        "\n",
        "    main() "
      ],
      "execution_count": null,
      "outputs": []
    },
    {
      "cell_type": "markdown",
      "metadata": {
        "id": "8wIv55N3WrTY"
      },
      "source": [
        "# 5. Matrices Dispersas"
      ]
    },
    {
      "cell_type": "code",
      "metadata": {
        "id": "MOtJAHjKWvUK"
      },
      "source": [
        "import numpy as np\n",
        "import random\n",
        "import time\n",
        "\n",
        "class Sparse:\n",
        "    def __init__(self, row, col, value):\n",
        "        self.row = row\n",
        "        self.col = col\n",
        "        self.value = value\n",
        "\n",
        "class InitMatrix:\n",
        "\n",
        "    def initRandomMat(self, M):\n",
        "        numElements = int ((len(M)*len(M[0])) * 0.1) # 10% de elementos distintos de 0\n",
        "        count = 0\n",
        "        for i in range(len(M)):\n",
        "            for j in range(len(M[0])):\n",
        "                if(random.random() >= 0.9):\n",
        "                    if(count >= numElements):\n",
        "                        break\n",
        "                    M[i][j] = random.randint(1, 10)\n",
        "                    count+=1\n",
        "        return M\n",
        "\n",
        "class SparseOps:\n",
        "\n",
        "    def transposeMat(self, M):\n",
        "        start = time.time()\n",
        "        for i in range(len(M)):\n",
        "            tmp = M[i].row\n",
        "            M[i].row = M[i].col \n",
        "            M[i].col = tmp\n",
        "        end = time.time()\n",
        "        print(\"Total time sparse mat: \", end-start)\n",
        "        return M, end-start\n",
        "\n",
        "    def printMat(self, M):\n",
        "        for i in range(len(M)):\n",
        "            print(\"Mat: \", M[i].row , M[i].col , \" =>\", M[i].value )\n",
        "    # Suma, resta, multiplicación.\n",
        "\n",
        "class ConventionalOps:\n",
        "    def tranposeMat(self, M):\n",
        "        start = time.time()\n",
        "        M2 = np.zeros_like(M)\n",
        "        for i in range(len(M)):\n",
        "            for j in range(len(M[0])):\n",
        "                M2[j][i] = M[i][j]\n",
        "        end = time.time()\n",
        "        print(\"Total time conventional: \", end-start)\n",
        "        return M2, end-start\n",
        "\n",
        "def main():\n",
        "    \n",
        "    # Importar matrix dispersa M1, M2 se asume que existen estas matrices\n",
        "    n = 10\n",
        "    f = n\n",
        "    c = n\n",
        "\n",
        "    M = np.zeros((f, c), dtype = np.float)\n",
        "    objInit = InitMatrix()\n",
        "\n",
        "    M = objInit.initRandomMat(M)\n",
        "\n",
        "    print(\"Matriz aleatoria: \\n\", M)\n",
        "\n",
        "    sparseMat = list()\n",
        "    for i in range(len(M)):\n",
        "        for j in range (len(M[0])):\n",
        "            if  (M[i][j] != 0):\n",
        "                sparseMat.append(Sparse(i, j, M[i][j]))\n",
        "\n",
        "\n",
        "    #TODO: Calcular una matriz transpuesta\n",
        "    objOps = SparseOps()\n",
        "    objConv = ConventionalOps()\n",
        "\n",
        "    Mtmp, t1 = objConv.tranposeMat(M)\n",
        "    \n",
        "    print(\"Mariz original\")\n",
        "    objOps.printMat(sparseMat)\n",
        "\n",
        "\n",
        "\n",
        "    print(\"Mariz transpuesta\")\n",
        "    M , t2 = objOps.transposeMat(sparseMat)\n",
        "    #objOps.printMat(M)\n",
        "\n",
        "    acc = t1 / t2\n",
        "    print(\"Aceleración: \", acc)\n",
        "    #Calcular operaciónes sencillas: sumas, restas, etc ... \n",
        "\n",
        "\n",
        "    \n",
        "\n",
        "if __name__ == \"__main__\":\n",
        "    main() "
      ],
      "execution_count": null,
      "outputs": []
    },
    {
      "cell_type": "markdown",
      "metadata": {
        "id": "BAFzdjD8oxAk"
      },
      "source": [
        "# 6. Normas de matrices y vectores\n"
      ]
    },
    {
      "cell_type": "code",
      "metadata": {
        "id": "8V85HCm4o5Bo"
      },
      "source": [
        "import numpy as np\n",
        "\n",
        "class Norm():\n",
        "\n",
        "    def calculateMatNorm(self, M):\n",
        "        \"\"\"\n",
        "\n",
        "        \"\"\"\n",
        "\n",
        "        A = np.zeros(len(M))\n",
        "        for i in range(len(M)):\n",
        "            for j in range(len(M[0])):\n",
        "                A[i] += M[i][j]\n",
        "        max = np.amax(A)\n",
        "        #print(\"Los elementos del arreglo A son: \", A)\n",
        "        #print(\"El elemento máximo es: \", max)\n",
        "        return max\n",
        "\n",
        "\n",
        "\n",
        "\n",
        "def main():\n",
        "    n = 100\n",
        "    M = np.random.randint(1, 10 ,size =(n, n))\n",
        "    print(M)\n",
        "\n",
        "    objN = Norm()\n",
        "\n",
        "    print(\"La norma LInf es: \", objN.calculateMatNorm(M))\n",
        "\n",
        "    print(\"La norma L1 es: \", objN.calculateMatNorm(M.T))\n",
        "    \n",
        "\n",
        "\n",
        "if __name__ == \"__main__\":\n",
        "    main() "
      ],
      "execution_count": null,
      "outputs": []
    },
    {
      "cell_type": "markdown",
      "metadata": {
        "id": "3OhCBRfPOrim"
      },
      "source": [
        "# 7. Inversa de una Matriz"
      ]
    },
    {
      "cell_type": "code",
      "metadata": {
        "id": "pLHLkv2ZOuhU"
      },
      "source": [
        ""
      ],
      "execution_count": null,
      "outputs": []
    },
    {
      "cell_type": "markdown",
      "metadata": {
        "id": "DMaQP6qW9JHJ"
      },
      "source": [
        "# 8. Descomposición (factorizción) de matrices"
      ]
    },
    {
      "cell_type": "code",
      "metadata": {
        "id": "5ewB-q8o9Pic"
      },
      "source": [
        "import numpy as np\n",
        "import scipy\n",
        "import scipy.linalg   # SciPy Linear Algebra Library\n",
        "import pprint\n",
        "import sympy \n",
        "\n",
        "def main():\n",
        "    A = scipy.array([ [7, 3, -1, 2], \n",
        "                     [3, 8, 1, -4], \n",
        "                     [-1, 1, 4, -1], \n",
        "                     [2, -4, -1, 6] ])\n",
        "    \n",
        "    \n",
        "    # Ciclo para inicializar en una lista\n",
        "    \n",
        "    P, L, U = scipy.linalg.lu(A)\n",
        "\n",
        "    print(\"A:\")\n",
        "    print(A)\n",
        "\n",
        "    print(\"P:\")\n",
        "    print(P)\n",
        "\n",
        "    print(\"L:\")\n",
        "    print(L)\n",
        "\n",
        "    print(\"U:\")\n",
        "    print(U)\n",
        "\n",
        "\n",
        "    # TODO: Emplear las dos ecuaciones para:\n",
        "    # 1) Resolver un sist. ec. lin\n",
        "    # 2) Calcular inversa de una matriz\n",
        "\n",
        "    # [L][Z] = [C] (1)\n",
        "    # [U][X] = [Z] (2)\n",
        "\n",
        "if __name__ == \"__main__\":\n",
        "    main() "
      ],
      "execution_count": null,
      "outputs": []
    },
    {
      "cell_type": "markdown",
      "metadata": {
        "id": "hmTk8UjQ1JEI"
      },
      "source": [
        "# 9. Búsqueda y procesamiento de grafos  \n",
        "\n",
        "+ 30 de septiembre de 2021\n",
        "+ Buscar el nodo más influyente en un grafo"
      ]
    },
    {
      "cell_type": "code",
      "metadata": {
        "id": "NpFPhrUM9ftN"
      },
      "source": [
        "import pandas as pd\n",
        "import numpy as np\n",
        "\n",
        "def main():\n",
        "    # import dataframe \n",
        "    email = pd.read_csv(\"/content/sample_data/email-Eu-core.csv\")\n",
        "    \n",
        "\n",
        "#if __name__ == \"__main__\":\n",
        "#    main() "
      ],
      "execution_count": null,
      "outputs": []
    },
    {
      "cell_type": "code",
      "metadata": {
        "id": "ge46lzr110fC"
      },
      "source": [
        "email.head()\n",
        "\n",
        "nodos1 = list()\n",
        "nodos2 = list()\n",
        "\n",
        "# Asignar nodos a las listas\n",
        "nodos1 = email.n1\n",
        "nodos2 = email.n2\n",
        "\n",
        "M = np.zeros((len(nodos1), len(nodos2)))\n",
        "\n",
        "# Inicializar matriz con conexiones del archivo TSV\n",
        "for i in range(len(nodos1)):\n",
        "    M[nodos1[i]][nodos2[i]] = 1\n",
        "\n",
        "# TODO: Calcular \n",
        "# 1) Conexiones de entrada (suma por columna) => Nodos que reciben mucha atención (popular, influencer)\n",
        "# 2) Conexiones de salida (suma por fila)  => Nodos que siguen a muchas personas (Nodos hub)\n",
        "# 3) Intersercción (1, 2)\n",
        "\n",
        "# Desplegar elementos en un gráfico y colorear de un un color nodos de la clase 1, nodos 2, 3 (https://plotly.com/python/network-graphs/)\n",
        "\n",
        "\n",
        "\n"
      ],
      "execution_count": null,
      "outputs": []
    }
  ]
}