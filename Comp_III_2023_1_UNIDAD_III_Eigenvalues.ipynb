{
  "nbformat": 4,
  "nbformat_minor": 0,
  "metadata": {
    "colab": {
      "private_outputs": true,
      "provenance": [],
      "collapsed_sections": [],
      "authorship_tag": "ABX9TyMhrHYSMTbGGND3L85ofAkB",
      "include_colab_link": true
    },
    "kernelspec": {
      "name": "python3",
      "display_name": "Python 3"
    },
    "language_info": {
      "name": "python"
    }
  },
  "cells": [
    {
      "cell_type": "markdown",
      "metadata": {
        "id": "view-in-github",
        "colab_type": "text"
      },
      "source": [
        "<a href=\"https://colab.research.google.com/github/ulises1229/2022-1-CompIII/blob/main/Comp_III_2023_1_UNIDAD_III_Eigenvalues.ipynb\" target=\"_parent\"><img src=\"https://colab.research.google.com/assets/colab-badge.svg\" alt=\"Open In Colab\"/></a>"
      ]
    },
    {
      "cell_type": "markdown",
      "source": [
        "# Computación III\n",
        "## Unidad II - Análisis Matricial - Semestre 2023-1\n",
        "+ Autor: Ulises Olivares\n",
        "+ uolivares@unam.mx\n",
        "+ Oct 25, 2022\n",
        "\n",
        "<table align=\"center\">\n",
        "\n",
        "<td align=\"center\"><a target=\"_blank\" href=\"https://colab.research.google.com/drive/1dGaiZDAE5jXeyZKzVcD5NaKhc_59507K?usp=sharing\">\n",
        "        <img src=\"https://i.ibb.co/2P3SLwK/colab.png\"  style=\"padding-bottom:5px;\" />Ejecutar en Google Colab</a></td>\n",
        "  <td align=\"center\"><a target=\"_blank\" href=\"https://github.com/ulises1229/2022-1-CompIII/blob/main/code/Comp_III_(2022_1)_UNIDAD_II_An%C3%A1lisis_Matricial.ipynb\">\n",
        "        <img src=\"https://i.ibb.co/xfJbPmL/github.png\"  height=\"70px\" style=\"padding-bottom:5px;\"  />Ver código fuente en GitHub</a></td>\n",
        "</table>"
      ],
      "metadata": {
        "id": "RgW2NP0qEcfI"
      }
    },
    {
      "cell_type": "code",
      "execution_count": null,
      "metadata": {
        "id": "rcb5ItBE-85p"
      },
      "outputs": [],
      "source": [
        "import numpy as np\n",
        "\n",
        "\"\"\"class Graph:\n",
        "    def __init__(self):\n",
        "\n",
        "    def plotLine():\"\"\"\n",
        "\n",
        "\n",
        "class PowerMethod:\n",
        "    def __init__(self, tol):\n",
        "        self.tol = tol\n",
        "\n",
        "    def MaxEigenPowerMethod(self, M, X0, tol, maxIter):\n",
        "        # Initialize variables\n",
        "        normX = np.zeros_like(X0)\n",
        "        lamda0 = 0\n",
        "        lamda1 = 0\n",
        "        cont = 0\n",
        "        \n",
        "        # Variables to graph error\n",
        "        error = []\n",
        "        iters = []\n",
        "        iter = 0\n",
        "\n",
        "        error.append(np.inf)\n",
        "\n",
        "        while(error[iter] > tol or iter < maxIter):\n",
        "            # Multiplicación de M x X0\n",
        "            X1 = M @ X0\n",
        "            #print(X1)\n",
        "           \n",
        "            \n",
        "            # Calcular el valor máximo del vector X1\n",
        "            lamda1 = np.amax(X1)\n",
        "\n",
        "            # Normaliza el vector \n",
        "            normX1 = X1 / lamda1\n",
        "            \n",
        "            error.append(abs(lamda1 - lamda0))\n",
        "            \n",
        "            lamda0 = lamda1\n",
        "            X0 = normX1\n",
        "            iter+=1\n",
        "\n",
        "        return lamda1, X0\n",
        "         \n",
        "\n",
        "def main():\n",
        "    n = 3\n",
        "    #M = np.random.randint(1, 5 ,size =(n, n))\n",
        "\n",
        "    #M = np.zeros((n,n))\n",
        "    \n",
        "    M = np.array([[2,2,1],\n",
        "        [1,3,1],\n",
        "        [1,2,2]])\n",
        "    \n",
        "    X0 = np.array([1,0,0])\n",
        "    print(M)\n",
        "    tol = 0.0001\n",
        "    maxIter = 10000\n",
        "\n",
        "    objP = PowerMethod(tol)\n",
        "    eigenVal, eigenVec = objP.MaxEigenPowerMethod(M, X0, tol, maxIter)\n",
        "    \n",
        "    print(\"El eigen valor máximo es:\", eigenVal, \" Su eigenvecor asociado es:\", eigenVec)\n",
        "\n",
        "    \n",
        "\n",
        "    \n",
        "\n",
        "if __name__ == \"__main__\":\n",
        "    main() "
      ]
    },
    {
      "cell_type": "markdown",
      "source": [],
      "metadata": {
        "id": "CZLlBlXvEbpf"
      }
    }
  ]
}